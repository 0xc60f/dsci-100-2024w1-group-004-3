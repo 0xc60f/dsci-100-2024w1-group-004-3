{
 "cells": [
  {
   "cell_type": "markdown",
   "id": "53a7b3e097fef3c6",
   "metadata": {},
   "source": [
    "# Title"
   ]
  },
  {
   "cell_type": "markdown",
   "id": "1f39756212807c86",
   "metadata": {},
   "source": [
    "## Introduction\n"
   ]
  },
  {
   "cell_type": "markdown",
   "id": "468c4ef644bdec76",
   "metadata": {},
   "source": [
    "Introduction goes here"
   ]
  },
  {
   "cell_type": "markdown",
   "id": "dc869f4d6fab28f5",
   "metadata": {},
   "source": [
    "## Methods and Results"
   ]
  },
  {
   "cell_type": "markdown",
   "id": "1a2ea553361130db",
   "metadata": {},
   "source": [
    "Methods and results goes here\n"
   ]
  },
  {
   "cell_type": "code",
   "execution_count": 1,
   "id": "d5897c26e5a58096",
   "metadata": {
    "ExecuteTime": {
     "end_time": "2024-11-20T19:25:07.163782Z",
     "start_time": "2024-11-20T19:25:07.131635Z"
    }
   },
   "outputs": [
    {
     "name": "stdout",
     "output_type": "stream",
     "text": [
      "[1] \"Hello World\"\n"
     ]
    }
   ],
   "source": [
    "print(\"Hello World\")"
   ]
  },
  {
   "cell_type": "markdown",
   "id": "bd71ba853c7dfa99",
   "metadata": {},
   "source": [
    "## Discussion"
   ]
  },
  {
   "cell_type": "markdown",
   "id": "eb0cb6c2b17353c6",
   "metadata": {},
   "source": [
    "Discussion goes here"
   ]
  },
  {
   "cell_type": "markdown",
   "id": "9b353c829ab4b758",
   "metadata": {},
   "source": [
    "## References"
   ]
  },
  {
   "cell_type": "markdown",
   "id": "708523108c5d24e4",
   "metadata": {},
   "source": [
    "References goes here"
   ]
  },
  {
   "cell_type": "code",
   "execution_count": null,
   "id": "98c9911c93cbd531",
   "metadata": {},
   "outputs": [],
   "source": []
  }
 ],
 "metadata": {
  "kernelspec": {
   "display_name": "R",
   "language": "R",
   "name": "ir"
  },
  "language_info": {
   "codemirror_mode": "r",
   "file_extension": ".r",
   "mimetype": "text/x-r-source",
   "name": "R",
   "pygments_lexer": "r",
   "version": "4.3.3"
  }
 },
 "nbformat": 4,
 "nbformat_minor": 5
}
